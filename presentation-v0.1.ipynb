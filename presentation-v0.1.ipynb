{
 "cells": [
  {
   "cell_type": "markdown",
   "id": "8494c0e6-c3a2-4d4c-a9fb-1c74ce26d9a8",
   "metadata": {
    "@deathbeds/jupyterlab-fonts": {
     "styles": {
      "": {
       "body[data-jp-deck-mode='presenting'] &": {
        "height": "25.035921065346233%",
        "left": "19.45619980494181%",
        "position": "fixed",
        "top": "4.757777361319341%",
        "width": "61.70157326592339%"
       }
      }
     }
    },
    "slideshow": {
     "slide_type": "slide"
    },
    "tags": [],
    "user_expressions": []
   },
   "source": [
    "---\n",
    "title: Thebe - add Jupyter-based interactive computing to modern websites\n",
    "authors:\n",
    "  - name: Steve Purves\n",
    "    orcid: 0000-0002-0760-5497\n",
    "    twitter: stevejpurves\n",
    "    corresponding: true\n",
    "    email: steve@curvenote.com\n",
    "    roles:\n",
    "     - Software\n",
    "    affiliations:\n",
    "      - Curvenote\n",
    "      - Executable Books\n",
    "open_access: true\n",
    "github: https://github.com/executablebooks/thebe\n",
    "license:\n",
    "  code: MIT\n",
    "  content: CC-BY  \n",
    "keywords:\n",
    "  - La Palma\n",
    "  - Earthquakes\n",
    "---"
   ]
  },
  {
   "cell_type": "markdown",
   "id": "e83feb8a-388b-499f-8ef4-a9ef3894eff2",
   "metadata": {
    "@deathbeds/jupyterlab-fonts": {
     "styles": {
      "": {
       "body[data-jp-deck-mode='presenting'] &": {
        "height": "21.328399063407748%",
        "left": "32.90201822916667%",
        "position": "fixed",
        "top": "35.55253699444223%",
        "width": "34.95506180657281%"
       }
      }
     }
    },
    "tags": [],
    "user_expressions": []
   },
   "source": [
    "```{figure} ./images/thebe_wide.svg\n",
    ":width: 250px\n",
    ":align: center\n",
    "```"
   ]
  },
  {
   "cell_type": "markdown",
   "id": "5b642c74-b65e-4475-a147-7d876d0e285a",
   "metadata": {
    "@deathbeds/jupyterlab-fonts": {
     "styles": {
      "": {
       "body[data-jp-deck-mode='presenting'] &": {
        "height": "11.455209895052473%",
        "left": "20.268193880716957%",
        "position": "fixed",
        "top": "66.19034385395193%",
        "width": "59.86870659722222%"
       }
      }
     }
    },
    "tags": [],
    "user_expressions": []
   },
   "source": [
    "`````{grid} 2\n",
    "````{card}\n",
    "```{figure} ./images/eb_wide.png\n",
    ":width: 220px\n",
    ":align: center\n",
    "```\n",
    "````\n",
    "````{card}\n",
    "```{figure} ./images/curvenote.png\n",
    ":width: 220px\n",
    ":align: center\n",
    "```\n",
    "````\n",
    "`````"
   ]
  },
  {
   "cell_type": "markdown",
   "id": "a38a370b-1354-404f-8724-6793c40ee0c1",
   "metadata": {
    "@deathbeds/jupyterlab-fonts": {
     "styles": {
      "": {
       "body[data-jp-deck-mode='presenting'] &": {
        "height": "96.43850255048257%",
        "left": "9.548159440358479%",
        "position": "fixed",
        "top": "3.8051287809769434%",
        "width": "82.72569444444444%"
       }
      }
     }
    },
    "slideshow": {
     "slide_type": "subslide"
    },
    "tags": [],
    "user_expressions": []
   },
   "source": [
    "````{attention} This presentation is built with MyST & Deck\n",
    "\n",
    "\n",
    "```bash\n",
    "pip install jupyterlab-myst\n",
    "```\n",
    "\n",
    "```bash\n",
    "pip install jupyterlab-deck\n",
    "```\n",
    "\n",
    "**Learn how to MyST at https://myst-tools.org** \n",
    "\n",
    "```{figure} ./images/myst_tools.png\n",
    ":align: center\n",
    ":width: 600px\n",
    "```\n",
    "\n",
    "````"
   ]
  },
  {
   "cell_type": "markdown",
   "id": "4ebeead5-cd54-4ecf-98f9-5d1716d23055",
   "metadata": {
    "@deathbeds/jupyterlab-fonts": {
     "styles": {
      "": {
       "body[data-jp-deck-mode='presenting'] &": {
        "height": "28.053162444656575%",
        "left": "30.29513888888889%",
        "position": "fixed",
        "top": "32.814842578710646%",
        "width": "51.90972222222222%"
       }
      }
     }
    },
    "slideshow": {
     "slide_type": "slide"
    },
    "tags": [],
    "user_expressions": []
   },
   "source": [
    "# Running order\n",
    "\n",
    "* 👋 Introducing `thebe`\n",
    "* 🎥 What else can `thebe` do?\n",
    "* 👩🏽‍💻 Dive into `thebe` and it's subpackages\n",
    "* 🚀 What's happening & what's next"
   ]
  },
  {
   "cell_type": "markdown",
   "id": "0346b3f4-40c6-48af-93e5-a29bbf2f04a4",
   "metadata": {
    "@deathbeds/jupyterlab-fonts": {
     "styles": {
      "": {
       "body[data-jp-deck-mode='presenting'] &": {
        "height": "124.93831514418572%",
        "left": "6.770833333333333%",
        "position": "fixed",
        "top": "2.8532608695652173%",
        "width": "87.41319444444444%"
       }
      }
     }
    },
    "slideshow": {
     "slide_type": "slide"
    },
    "tags": [],
    "user_expressions": []
   },
   "source": [
    "# Thebe and it's uses\n",
    "\n",
    "The `thebe` library has been around for a while 🦖🦕 originally developed as part of the OpenDreamKit project, before being stewarded by ExecutableBooks and more recently supported by the U.S. Open Textbooks program, Libretexts,and others... more recently Curvenote and Doerr School of Sustainability at Stanford.\n",
    "\n",
    "```{figure} ./images/jupyterbook.png\n",
    ":width: 500px\n",
    "`thebe 0.8.x` is currently used in the [live code](https://jupyterbook.org/en/stable/interactive/thebe.html?highlight=live%20code) feature of JupyterBooks. Recent work represents a major refactor (`0.9.0`) allowing broader use of `thebe` for connecting to `jupyter` kernels from modern web apps 🚀.\n",
    "```"
   ]
  },
  {
   "cell_type": "markdown",
   "id": "e679bf9d-155d-41bc-82f1-80dd63375d62",
   "metadata": {
    "slideshow": {
     "slide_type": "subslide"
    },
    "tags": [],
    "user_expressions": []
   },
   "source": [
    "````{attention} in case we can't get online, here's a GIF 🖼\n",
    "```{figure} ./images/jb_live_code.gif\n",
    ":width: 800px\n",
    ":align: center\n",
    "```\n",
    "````"
   ]
  },
  {
   "cell_type": "markdown",
   "id": "8570309d-1c44-40e3-a5d6-5c6d6397774c",
   "metadata": {
    "slideshow": {
     "slide_type": "slide"
    },
    "tags": [],
    "user_expressions": []
   },
   "source": [
    "## Geophysics App - Groundwater Recharge"
   ]
  },
  {
   "cell_type": "markdown",
   "id": "a6bad004-ade5-462a-a755-736097e5b41f",
   "metadata": {
    "user_expressions": []
   },
   "source": [
    "```{attention} The Groundwater Recharge Research Team\n",
    ":class: dropdown\n",
    "\n",
    "Credits to the Research Team: **Prof. Rosemary Knight, Seogi Kang & Meredith Goebel**  at **Doerr School of Sustainability, Stanford** who are creating this application to increase the impact of publicly availalbe datasets in California with their research.\n",
    "\n",
    "The application is being built by **Curvenote** with many features feeding back into the `thebe` code base as a result.\n",
    "```"
   ]
  },
  {
   "cell_type": "code",
   "execution_count": 3,
   "id": "8712c65b-f908-4e2c-a84f-b3fd58952811",
   "metadata": {
    "jupyter": {
     "source_hidden": true
    },
    "tags": [],
    "user_expressions": []
   },
   "outputs": [
    {
     "data": {
      "text/html": [
       "<video src=\"./video/Groundwater2.mp4\" controls  width=\"800\" >\n",
       "      Your browser does not support the <code>video</code> element.\n",
       "    </video>"
      ],
      "text/plain": [
       "<IPython.core.display.Video object>"
      ]
     },
     "metadata": {},
     "output_type": "display_data"
    }
   ],
   "source": [
    "from IPython.display import Video\n",
    "display(Video('./video/Groundwater2.mp4', width=800))"
   ]
  },
  {
   "cell_type": "markdown",
   "id": "52da282a-d62b-4eb8-a976-5b5428d99920",
   "metadata": {
    "@deathbeds/jupyterlab-fonts": {
     "styles": {
      "": {
       "body[data-jp-deck-mode='presenting'] &": {
        "height": "124.6275299850075%",
        "left": "5.121527777777778%",
        "position": "fixed",
        "top": "8.398925918510471%",
        "width": "88.19444444444444%"
       }
      }
     }
    },
    "slideshow": {
     "slide_type": "slide"
    },
    "tags": [],
    "user_expressions": []
   },
   "source": [
    "## Communicating Science with MyST\n",
    "\n",
    "```{attention} MyST Tools\n",
    "\n",
    "**MyST extends Markdown for technical, scientific communication and publication - web, jats, pdf, latex, docx... MyST tools provides a permissive CLI and `typescript` toolchain for creating web-first technical documents and publications.**\n",
    "\n",
    "Learn about everything that the MyST Tools stack can do at [https://myst-tools.org](https://myst-tools.org).\n",
    "```\n",
    "\n",
    "```{figure} ./images/myst_simple_notebook.png\n",
    ":width: 920px\n",
    ":align: center\n",
    "```\n",
    "\n"
   ]
  },
  {
   "cell_type": "markdown",
   "id": "1ea27d6c-122a-45cb-8b5e-67c1621c9b7a",
   "metadata": {
    "@deathbeds/jupyterlab-fonts": {
     "styles": {
      "": {
       "body[data-jp-deck-mode='presenting'] &": {
        "height": "34.28676439368207%",
        "left": "9.98263888888889%",
        "position": "fixed",
        "top": "2.855603448275862%",
        "width": "80.46875%"
       }
      }
     }
    },
    "slideshow": {
     "slide_type": "slide"
    },
    "tags": [],
    "user_expressions": []
   },
   "source": [
    "# 🤿 Dive into `thebe` and it's packages\n",
    "\n",
    "## Thebe Releases\n",
    "\n",
    "**v0.8.2**\n",
    ": tagged as `latest` release, `js` browser bundle only, `jquery` based\n",
    "\n",
    "\n",
    "**v0.9.0-rc.5**\n",
    ": `typescript` based, browser bundle with `module` packages for use in different web contexts\n",
    "\n",
    "    ```{image} ./images/ts.png\n",
    "    :width: 26px\n",
    "    ```"
   ]
  },
  {
   "cell_type": "markdown",
   "id": "1607ab96-c1ae-4a1e-aca4-1bb91184b3da",
   "metadata": {
    "@deathbeds/jupyterlab-fonts": {
     "styles": {
      "": {
       "body[data-jp-deck-mode='presenting'] &": {
        "height": "46.28310997089346%",
        "left": "9.722222222222223%",
        "position": "fixed",
        "top": "40.25955772113943%",
        "width": "71.18055555555556%"
       }
      }
     }
    },
    "tags": [],
    "user_expressions": []
   },
   "source": [
    "```{figure} ./images/thebe_github_readme.png\n",
    ":width: 600px\n",
    ":align: center\n",
    "Find `thebe` and it's packages on github [https://github.com/executeablebooks/thebe](https://github.com/executeablebooks/thebe) and install from `npm` or `unpkg.com`\n",
    "```"
   ]
  },
  {
   "cell_type": "markdown",
   "id": "f1428ae7-7099-4b7a-b5ae-5d504f1074f1",
   "metadata": {
    "@deathbeds/jupyterlab-fonts": {
     "styles": {
      "": {
       "body[data-jp-deck-mode='presenting'] &": {
        "height": "87.70927646528298%",
        "left": "13.715277777777779%",
        "position": "fixed",
        "top": "4.9139494660018626%",
        "width": "80.20833333333334%"
       }
      }
     }
    },
    "slideshow": {
     "slide_type": "slide"
    },
    "tags": [],
    "user_expressions": []
   },
   "source": [
    "## the packages\n",
    "\n",
    "`thebe-core`\n",
    ": All the core jupyter connectivity, with runtime objects to help manage connections, cells, notebooks & events.\n",
    "\n",
    "`thebe-lite`\n",
    ": An extension library (sideloaded bundle) adding in brower kernel via JupyterLite & pyodide\n",
    "\n",
    "`thebe`\n",
    ": Top level browser bundle for static HTML websites\n",
    "\n",
    "`thebe-react`\n",
    ": React providers & hooks for adding `thebe` to web applications\n",
    "\n",
    "```{figure} ./images/thebe_packages.png\n",
    ":width: 450px\n",
    ":align: left\n",
    "`thebe` subpackages and how they interact\n",
    "```"
   ]
  },
  {
   "cell_type": "markdown",
   "id": "f33c5b04-7f98-4e43-ac5a-49ed64404201",
   "metadata": {
    "slideshow": {
     "slide_type": "slide"
    },
    "tags": [],
    "user_expressions": []
   },
   "source": [
    "### Let's look at some [detailed examples](https://github.com/executablebooks/thebe)\n",
    "\n",
    "* `thebe`'s classic usage - add to a static website & sprinkly in juptyerlite ✨\n",
    "* `thebe-core` & `thebe-react`\n",
    "  * Runtime objects\n",
    "  * Different app setups & cool features\n",
    "  * React hooks"
   ]
  },
  {
   "cell_type": "markdown",
   "id": "703b8208-60f3-4c30-8596-b09e96745ce5",
   "metadata": {
    "slideshow": {
     "slide_type": "slide"
    },
    "tags": [],
    "user_expressions": []
   },
   "source": [
    "## `thebe` on static HTML webpages\n",
    "\n",
    "\n",
    "```xml\n",
    "<script type=\"text/javascript\" src=\"https://unpkg.com/thebe@0.9.0-rc.5/lib/index.js\"></script>\n",
    "\n",
    "<link rel=\"stylesheet\" href=\"https://unpkg.com/thebe@thebe@0.9.0-rc.5/lib/thebe.css\" />\n",
    "\n",
    "<script type=\"text/x-thebe-config\">\n",
    "  {\n",
    "    mountActivateWidget: true,\n",
    "    mountStatusWidget: true,\n",
    "    useJupyterLite: false,\n",
    "    useBinder: false,\n",
    "    serverSettings: {\n",
    "      baseUrl: 'http://localhost:8888',\n",
    "      token: 'test-secret'\n",
    "    }\n",
    "  }\n",
    "</script>\n",
    "```"
   ]
  },
  {
   "cell_type": "markdown",
   "id": "ffd9371d-4ae4-4796-8439-2bc747329a21",
   "metadata": {
    "slideshow": {
     "slide_type": "fragment"
    },
    "tags": [],
    "user_expressions": []
   },
   "source": [
    "````{hint} various plain HTML examples are available\n",
    "\n",
    "Check out the \"simple\" demo in the thebe monorepo\n",
    "\n",
    "```bash\n",
    "thebe/\n",
    "  apps/\n",
    "    simple/\n",
    "      static/\n",
    "        index.html\n",
    "        binder.html\n",
    "        lite.html\n",
    "        ipywidgets.html\n",
    "        ...\n",
    "```\n",
    "\n",
    "which is also hosted at [executablebooks.github.io/thebe](executablebooks.github.io/thebe)\n",
    "\n",
    "````\n"
   ]
  },
  {
   "cell_type": "markdown",
   "id": "91b3da96-1db7-4e27-983f-7a7f62474b5d",
   "metadata": {
    "slideshow": {
     "slide_type": "slide"
    },
    "tags": [],
    "user_expressions": []
   },
   "source": [
    "### Minimal UI Included\n",
    "\n",
    "```xml\n",
    "  <div class=\"thebe-activate\"></div>\n",
    "  <div class=\"thebe-status\"></div>\n",
    "```\n",
    "\n",
    "```{figure} ./images/minimal_ui.png\n",
    ":width: 500px\n",
    ":align: left\n",
    "If configured `thebe` will add some minimal UI to the page at specific elements, these are customizable via CSS.\n",
    "```"
   ]
  },
  {
   "cell_type": "markdown",
   "id": "676eb885-2079-44f2-83d2-c77bc70f10e4",
   "metadata": {
    "slideshow": {
     "slide_type": "slide"
    },
    "tags": [],
    "user_expressions": []
   },
   "source": [
    "## JupyterLite + pyodide via `thebe-lite`\n",
    "\n",
    "```xml\n",
    "<script type=\"text/javascript\" src=\"/lib/thebe-lite.min.js\"></script>\n",
    "\n",
    "<script type=\"text/x-thebe-config\">\n",
    "  {\n",
    "    useBinder: false,\n",
    "    useJupyterLite: true,\n",
    "  }\n",
    "</script>\n",
    "```\n",
    "\n",
    "```{warning} Watch out for the service worker! 🤖\n",
    "\n",
    "Unlike the `thebe` examples, `thebe-lite` can't be hosted from CDN due to service worker & CORS restrictions, so you'll need to make this part of your deployment - which probably you sshould be doing for `thebe/lib/index.js` anyways.\n",
    "```"
   ]
  },
  {
   "cell_type": "markdown",
   "id": "dd7c5de9-748f-4d2b-9827-aa176755164d",
   "metadata": {
    "slideshow": {
     "slide_type": "slide"
    },
    "tags": [],
    "user_expressions": []
   },
   "source": [
    "### Recap\n",
    "\n",
    "By now we should have covered:\n",
    "\n",
    "* 🏗 Adding thebe to a static HTML page\n",
    "* 👩🏽‍💻 Codemirror editors in `<pre data-executable=true></pre>` tags\n",
    "* 🎚 Running `ipywidgets` based code\n",
    "* 💡 Adding the `thebe-lite` library and running examples with pyodide"
   ]
  },
  {
   "cell_type": "markdown",
   "id": "0b2b5583-eb87-466a-addb-9bcbd6e92218",
   "metadata": {
    "slideshow": {
     "slide_type": "slide"
    },
    "tags": [],
    "user_expressions": []
   },
   "source": [
    "## `thebe` in web applications\n",
    "\n",
    "\n",
    "```{note} TODO\n",
    "get a composite image of \n",
    "```\n",
    "\n",
    "```{hint}\n",
    "\n",
    "So far we've been testing & using `thebe-core`, `thebe-react` (and `thebe-lite`) in `React` & `Remix` applications but there is (probably) nothing stopping this being used in other modern `js` frameworks - lite `angular`, `vue`, `nextjs`...\n",
    "```"
   ]
  },
  {
   "cell_type": "markdown",
   "id": "0181c755-1b5b-497b-be5c-56e1dc159486",
   "metadata": {
    "slideshow": {
     "slide_type": "slide"
    },
    "tags": [],
    "user_expressions": []
   },
   "source": [
    "## `thebe-core` runtime object API\n",
    "\n",
    "\n",
    "`ThebeServer`\n",
    ": Functions to estabish a server connection, holds a `SessionMananger` and allows sessions to be started, binder handshake, JupyterLite server connection, ...\n",
    "\n",
    "\n",
    "`ThebeSession`\n",
    ": A holder for a session/kernel connection.\n",
    "\n",
    "\n",
    "`ThebeCell`\n",
    ": Holds source code with rendering and execution functions.\n",
    "\n",
    "\n",
    "`ThebeNotebook`\n",
    ": Holds a list of cells, with a single rendermime factory and ipywidgets manager, plus a bunch of access and execution helper functions\n",
    "\n",
    "\n",
    "`ThebeEvents`\n",
    ": Simple event emitter / listener API that mirrors the `jquery` events api and provides a callback based way for calling code to react to events from the server. Idea is to prevent calling application having to deal with about `signals` and `futures`.\n",
    "\n",
    "\n",
    "```{hint} that is not all 🎁\n",
    "\n",
    "...there is more to the core API - but see the the latest `thebe` documentation (🚧 contributions welcome!) at [https://thebe.myst-tools.org](https://thebe.myst-tools.org) 📚\n",
    "\n",
    "```\n",
    "\n",
    "\n",
    "\n",
    "\n"
   ]
  },
  {
   "cell_type": "markdown",
   "id": "86314160-4404-46a5-a378-8205f4b2811d",
   "metadata": {
    "slideshow": {
     "slide_type": "slide"
    },
    "tags": [],
    "user_expressions": []
   },
   "source": [
    "## `thebe-react` providers & hooks\n",
    "\n",
    "```xml\n",
    "<App>\n",
    "    <ThebeCoreProvider options={options}>\n",
    "        <ThebeServerProvider>\n",
    "            ...\n",
    "            <ThebeSessionProvider name=\"my-app-session\">\n",
    "                ...\n",
    "                <MyPageComponent slug={page.slug} />\n",
    "                ...\n",
    "            </ThebeSessionProvider>\n",
    "            ...\n",
    "        </ThebeServerProvider>\n",
    "    </ThebeCoreProvider>\n",
    "</App>\n",
    "\n",
    "```\n",
    "\n",
    "```typescript\n",
    "function MyPageComponent() {\n",
    "\n",
    "    const {\n",
    "        loading,\n",
    "        ready,\n",
    "        executeAll,\n",
    "        clear,\n",
    "    } = useNotebook(() => fetch('my-notebook.ipynb'));\n",
    "    \n",
    "    \n",
    "    return (<div>Render notebook, cells or outputs...</div>)\n",
    "}\n",
    "```\n"
   ]
  },
  {
   "cell_type": "markdown",
   "id": "6ef7e882-5de4-490f-830b-134571afa0b9",
   "metadata": {
    "slideshow": {
     "slide_type": "slide"
    },
    "tags": [],
    "user_expressions": []
   },
   "source": [
    "## Let's take a look at examples in the repo\n",
    "\n",
    "* `demo-core` - plain typescript, framework free\n",
    "* `demo-react` - minimal React application (create-react-app)"
   ]
  },
  {
   "cell_type": "markdown",
   "id": "7930fba9-8661-425b-96ab-7fc74ba098d6",
   "metadata": {
    "slideshow": {
     "slide_type": "fragment"
    },
    "tags": [],
    "user_expressions": []
   },
   "source": [
    "```{hint} thebe-core features 😎\n",
    "\n",
    "* selective notebook cell display `tags`\n",
    "* catching and surfacing errors\n",
    "* easy kernel changes\n",
    "* code interpolation hooks\n",
    "\n",
    "```"
   ]
  },
  {
   "cell_type": "markdown",
   "id": "73874693-f4c6-48f0-b377-d0f786f44d94",
   "metadata": {
    "slideshow": {
     "slide_type": "fragment"
    },
    "tags": [],
    "user_expressions": []
   },
   "source": [
    "```{hint} thebe-react\n",
    "* React providers (ContextAPI) for config, server & sessions\n",
    "* Hooks for noteobok loading & execution\n",
    "* For example components, check `apps/demo-react` as these are styled & opinionated so aren't shipped\n",
    "* Adding in JupyterLite as a sideloaded library\n",
    "```"
   ]
  },
  {
   "cell_type": "markdown",
   "id": "a0646a99-43a4-4408-8446-1dd0d9587298",
   "metadata": {
    "slideshow": {
     "slide_type": "slide"
    },
    "tags": [],
    "user_expressions": []
   },
   "source": [
    "## Recap\n",
    "\n",
    "By now we should have covered:\n",
    "\n",
    "* 🎥 demo apps that are available\n",
    "* 🪨 main features of `thebe-core` & `thebe-react`\n",
    "* 🪟 flexibly adding jupyter cells and outputs to a page\n",
    "* 💡 Adding the `thebe-lite` library and running examples with pyodide"
   ]
  },
  {
   "cell_type": "markdown",
   "id": "d5247dd4-cf23-4b98-b5e1-4b79e1a3f6e0",
   "metadata": {
    "slideshow": {
     "slide_type": "slide"
    },
    "tags": [],
    "user_expressions": []
   },
   "source": [
    "# Current Status\n",
    "\n",
    "`thebe v0.9.0-rc5`\n",
    ": Current release candidate of main bundle available - other packages available on `npm` (`0.2.1`) should also be considered `rc`, milestone setup on github for `0.9.0` release - testing & documentation contributions very welcome.\n",
    "\n",
    "```{figure} ./images/thebe_milestone.png\n",
    ":width: 960px\n",
    ":align: center\n",
    "```\n"
   ]
  },
  {
   "cell_type": "markdown",
   "id": "099a25c3-be53-4cae-815f-aa87b34d7d8a",
   "metadata": {
    "user_expressions": []
   },
   "source": [
    "# What's Next - beyond v0.9.0 \n",
    "\n",
    "* Upgrade to `jupyterlab 4.0` \n",
    "* Enable different WASM kernels; `xeus-python`, `wasmr`, ... \n",
    "* Embrace jupyter lab's federated extension system\n",
    "    * updgrade to `thebe` `ipywidgets` `WidgetManager`\n",
    "    * `thebe-lite` v2\n",
    "    \n",
    "\n",
    "```{figure} ./images/thebe_wide.svg\n",
    ":width: 250px\n",
    ":align: center\n",
    "```\n",
    "\n",
    "### Get started or get involved: [https://github.com/executablebooks/thebe](https://github.com/executablebooks/thebe)\n",
    "\n",
    "### Get in touch: `@stevejpurves` | `@stevejpurves@hackyderm.io`\n"
   ]
  },
  {
   "cell_type": "markdown",
   "id": "e5098630-a942-4bb5-8e08-426c4df850f4",
   "metadata": {
    "user_expressions": []
   },
   "source": [
    "### Speaker Notes\n",
    "\n",
    "Local setup needed:\n",
    "\n",
    "* myst dev environment with `thebe-theme` running\n",
    "* groundwater app open, with an available active session and a polygon selected\n",
    "* VS code open on jcon23 workspace\n",
    "* terminal ready for `demo-simple`\n",
    "* terminal ready for `demo-react` & jupyterlab running the notebook\n"
   ]
  }
 ],
 "metadata": {
  "kernelspec": {
   "display_name": "Python 3 (ipykernel)",
   "language": "python",
   "name": "python3"
  },
  "language_info": {
   "codemirror_mode": {
    "name": "ipython",
    "version": 3
   },
   "file_extension": ".py",
   "mimetype": "text/x-python",
   "name": "python",
   "nbconvert_exporter": "python",
   "pygments_lexer": "ipython3",
   "version": "3.10.10"
  }
 },
 "nbformat": 4,
 "nbformat_minor": 5
}
